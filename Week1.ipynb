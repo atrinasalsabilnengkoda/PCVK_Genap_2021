{
  "nbformat": 4,
  "nbformat_minor": 0,
  "metadata": {
    "colab": {
      "name": "\\Week1.ipynb",
      "provenance": [],
      "collapsed_sections": [],
      "include_colab_link": true
    },
    "kernelspec": {
      "name": "python3",
      "display_name": "Python 3"
    }
  },
  "cells": [
    {
      "cell_type": "markdown",
      "metadata": {
        "id": "view-in-github",
        "colab_type": "text"
      },
      "source": [
        "<a href=\"https://colab.research.google.com/github/atrinasalsabilnengkoda/PCVK_Genap_2021/blob/main/Week1.ipynb\" target=\"_parent\"><img src=\"https://colab.research.google.com/assets/colab-badge.svg\" alt=\"Open In Colab\"/></a>"
      ]
    },
    {
      "cell_type": "code",
      "metadata": {
        "id": "La66b1PXp-uB"
      },
      "source": [
        "import numpy as np\r\n",
        "import pandas as pd\r\n",
        "import cv2 as cv\r\n",
        "from google.colab.patches import cv2_imshow # for image display\r\n",
        "from skimage import io\r\n",
        "from skimage import transform\r\n",
        "from PIL import Image\r\n",
        "import matplotlib.pylab as plt"
      ],
      "execution_count": null,
      "outputs": []
    },
    {
      "cell_type": "code",
      "metadata": {
        "id": "zcf6dgKGL-Uu"
      },
      "source": [
        "# Create a list to store the urls of multiple images \r\n",
        "urls = [\"https://iiif.lib.ncsu.edu/iiif/0052574/full/800,/0/default.jpg\", \r\n",
        "        \"https://iiif.lib.ncsu.edu/iiif/0016007/full/800,/0/default.jpg\", \r\n",
        "        \"https://placekitten.com/800/571\"] \r\n",
        "# Read and display image\r\n",
        "# Loop on each image url, multiple images can be saved in the list\r\n",
        "for url in urls:\r\n",
        "  image = io.imread(url)                          #read image\r\n",
        "  image = cv.resize(image, (0,0), fx=0.5, fy=0.5) #resize image to half size\r\n",
        "  image_2 = cv.cvtColor(image, cv.COLOR_BGR2RGB)  #convert color to rgb\r\n",
        "  final_frame = cv.hconcat((image, image_2))      #concatenate image\r\n",
        "  cv2_imshow(final_frame)                         #show image\r\n",
        "  print('\\n')"
      ],
      "execution_count": null,
      "outputs": []
    },
    {
      "cell_type": "code",
      "metadata": {
        "id": "7t6w_6GYL_0G"
      },
      "source": [
        "height = image_2.shape[0]\r\n",
        "width = image_2.shape[1]\r\n",
        "print(\"image resolution : height x width = \", height, \" x \", width)\r\n",
        "cv2_imshow(image_2)"
      ],
      "execution_count": null,
      "outputs": []
    },
    {
      "cell_type": "code",
      "metadata": {
        "id": "9rSIkaxYMCuF"
      },
      "source": [
        "image_2 = cv.cvtColor(image, cv.COLOR_BGR2RGB)\r\n",
        "image_3 = cv.cvtColor(image, cv.COLOR_BGR2RGB)\r\n",
        "\r\n",
        "# Make a horizontal line in the center of the image\r\n",
        "for y in range (width):\r\n",
        "  image_3[int((height)/2),y] = [255,255,255]\r\n",
        "\r\n",
        "final_frame = cv.hconcat((image_2, image_3))\r\n",
        "cv2_imshow(final_frame)"
      ],
      "execution_count": null,
      "outputs": []
    },
    {
      "cell_type": "code",
      "metadata": {
        "id": "x9LkYvCCMFdY"
      },
      "source": [
        "image_2 = cv.cvtColor(image, cv.COLOR_BGR2RGB)\r\n",
        "image_4 = cv.cvtColor(image, cv.COLOR_BGR2RGB)\r\n",
        "\r\n",
        "# Make a vertical line in the center of the image\r\n",
        "for x in range (height):\r\n",
        "  image_4[x, int((width)/2)] = [255,255,255]\r\n",
        "\r\n",
        "final_frame = cv.hconcat((image_2, image_4))\r\n",
        "cv2_imshow(final_frame)"
      ],
      "execution_count": null,
      "outputs": []
    },
    {
      "cell_type": "code",
      "metadata": {
        "id": "_I87lcgjMIL6"
      },
      "source": [
        "image_2 = cv.cvtColor(image, cv.COLOR_BGR2RGB)\r\n",
        "image_5 = cv.cvtColor(image, cv.COLOR_BGR2RGB)\r\n",
        "\r\n",
        "# Start coordinate, here (400, 0) \r\n",
        "# represents the top right corner of image \r\n",
        "start_point = (400, 0) \r\n",
        "\r\n",
        "# End coordinate, here (0, 286) \r\n",
        "# represents the bottom left corner of image \r\n",
        "end_point = (0, 286)\r\n",
        "\r\n",
        "# Make a diagonal line in the center of the image\r\n",
        "image_5 = cv.line(image_5, start_point, end_point, [255,255,255])\r\n",
        "\r\n",
        "final_frame = cv.hconcat((image_2, image_5))\r\n",
        "cv2_imshow(final_frame)"
      ],
      "execution_count": null,
      "outputs": []
    },
    {
      "cell_type": "code",
      "metadata": {
        "id": "wIzTeIOwMO1W"
      },
      "source": [
        "image_2 = cv.cvtColor(image, cv.COLOR_BGR2RGB)\r\n",
        "image_6 = cv.cvtColor(image, cv.COLOR_BGR2RGB)\r\n",
        "\r\n",
        "# Start coordinate, here (0,0) \r\n",
        "# represents the top left corner of image \r\n",
        "start_point2 = (0,0) \r\n",
        "\r\n",
        "# End coordinate, here (400,286)\r\n",
        "# represents the bottom right corner of image \r\n",
        "end_point2 = (400,286) \r\n",
        "\r\n",
        "# Make a diagonal line in the center of the image\r\n",
        "image_6 = cv.line(image_6, start_point2, end_point2, [255,255,255])\r\n",
        "\r\n",
        "final_frame = cv.hconcat((image_2, image_6))\r\n",
        "cv2_imshow(final_frame)"
      ],
      "execution_count": null,
      "outputs": []
    },
    {
      "cell_type": "code",
      "metadata": {
        "id": "-01wgaypMP11"
      },
      "source": [
        "image_2 = cv.cvtColor(image, cv.COLOR_BGR2RGB)\r\n",
        "image_7 = cv.cvtColor(image, cv.COLOR_BGR2RGB)\r\n",
        "\r\n",
        "# Start coordinate, here (400, 0) and (0, 0) \r\n",
        "start_point = (400, 0)  # represents the top right corner of image \r\n",
        "start_point2 = (0, 0)   # represents the top left corner of image \r\n",
        "\r\n",
        "# End coordinate, here (0, 286) and (400, 286)\r\n",
        "end_point = (0, 286)    # represents the bottom left corner of image \r\n",
        "end_point2 = (400, 286) # represents the bottom right corner of image \r\n",
        "\r\n",
        "# Make a diagonal line in the center of the image\r\n",
        "image_7 = cv.line(image_7, start_point, end_point, [255,255,255])\r\n",
        "image_7 = cv.line(image_7, start_point2, end_point2, [255,255,255])\r\n",
        "\r\n",
        "final_frame = cv.hconcat((image_2, image_7))\r\n",
        "cv2_imshow(final_frame)"
      ],
      "execution_count": null,
      "outputs": []
    }
  ]
}